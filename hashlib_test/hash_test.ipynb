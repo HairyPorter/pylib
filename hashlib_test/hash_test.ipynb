{
 "cells": [
  {
   "cell_type": "code",
   "execution_count": 11,
   "metadata": {},
   "outputs": [
    {
     "name": "stdout",
     "output_type": "stream",
     "text": [
      "e4e5c3a6c15beff4e17117075e2c0bd65f176d81e6885134d2b4d97c20d4773a\n"
     ]
    }
   ],
   "source": [
    "import hashlib\n",
    "with open('/home/luhui/code/pylib/Covid 19 Immunity Tips.exe','rb') as f:\n",
    "    sha256=hashlib.sha256(f.read()).hexdigest()\n",
    "print(sha256)"
   ]
  },
  {
   "cell_type": "code",
   "execution_count": 3,
   "metadata": {},
   "outputs": [
    {
     "name": "stdout",
     "output_type": "stream",
     "text": [
      "hh\n"
     ]
    }
   ],
   "source": [
    "print('hh')"
   ]
  },
  {
   "cell_type": "code",
   "execution_count": null,
   "metadata": {},
   "outputs": [],
   "source": []
  },
  {
   "cell_type": "code",
   "execution_count": 25,
   "metadata": {},
   "outputs": [
    {
     "name": "stdout",
     "output_type": "stream",
     "text": [
      "None\n"
     ]
    }
   ],
   "source": [
    "\n",
    "from py2neo import Graph,Node,Relationship,NodeMatcher\n",
    "\n",
    "g = Graph('http://192.168.100.32:7474', auth=('neo4j','neo4j'), name='neo4j')\n",
    "\n",
    "nodes=NodeMatcher(g)\n",
    "\n",
    "#node_single= nodes.match(\"Malware\",sha256=sha256).first()\n",
    "node_single= nodes.match(\"Malware\",sha256=56).first()\n",
    "print(node_single)\n"
   ]
  },
  {
   "cell_type": "code",
   "execution_count": 20,
   "metadata": {},
   "outputs": [
    {
     "name": "stdout",
     "output_type": "stream",
     "text": [
      "/home/luhui/code/pylib/hashlib_test\n",
      "./1\n",
      "./1/234.txt\n",
      ".\n",
      "./hash_test.ipynb\n",
      "./Covid 19 Immunity Tips.exe\n",
      "./hash_test2.py\n",
      "['./1/234.txt', './hash_test.ipynb', './Covid 19 Immunity Tips.exe', './hash_test2.py']\n"
     ]
    }
   ],
   "source": [
    "import os\n",
    "print(os.getcwd())\n",
    "allfiles=[]\n",
    "for root,dirs,files in os.walk(\".\",topdown=False):\n",
    "    print(root)\n",
    "    for name in files:\n",
    "        name_t=os.path.join(root,name)\n",
    "        allfiles.append(name_t)\n",
    "        print(name_t)\n",
    "#    for name in dirs:\n",
    "#        print(os.path.join(root,name))\n",
    "print(allfiles)"
   ]
  },
  {
   "cell_type": "code",
   "execution_count": 27,
   "metadata": {},
   "outputs": [
    {
     "name": "stdout",
     "output_type": "stream",
     "text": [
      "./1/234.txt e3b0c44298fc1c149afbf4c8996fb92427ae41e4649b934ca495991b7852b855\n",
      "[('./1/234.txt', 'e3b0c44298fc1c149afbf4c8996fb92427ae41e4649b934ca495991b7852b855')]\n",
      "./hash_test.ipynb df219c663749ed74f65cea7eefed9ce144f0e03f3071aa1e101a85bb0b8ddda5\n",
      "[('./1/234.txt', 'e3b0c44298fc1c149afbf4c8996fb92427ae41e4649b934ca495991b7852b855'), ('./hash_test.ipynb', 'df219c663749ed74f65cea7eefed9ce144f0e03f3071aa1e101a85bb0b8ddda5')]\n",
      "./Covid 19 Immunity Tips.exe e4e5c3a6c15beff4e17117075e2c0bd65f176d81e6885134d2b4d97c20d4773a\n",
      "[('./1/234.txt', 'e3b0c44298fc1c149afbf4c8996fb92427ae41e4649b934ca495991b7852b855'), ('./hash_test.ipynb', 'df219c663749ed74f65cea7eefed9ce144f0e03f3071aa1e101a85bb0b8ddda5'), ('./Covid 19 Immunity Tips.exe', 'e4e5c3a6c15beff4e17117075e2c0bd65f176d81e6885134d2b4d97c20d4773a')]\n",
      "./hash_test2.py aaa8ed587581ac231dca9dd3bf17a66065b59bafa685979cd69e1e107576ad48\n",
      "[('./1/234.txt', 'e3b0c44298fc1c149afbf4c8996fb92427ae41e4649b934ca495991b7852b855'), ('./hash_test.ipynb', 'df219c663749ed74f65cea7eefed9ce144f0e03f3071aa1e101a85bb0b8ddda5'), ('./Covid 19 Immunity Tips.exe', 'e4e5c3a6c15beff4e17117075e2c0bd65f176d81e6885134d2b4d97c20d4773a'), ('./hash_test2.py', 'aaa8ed587581ac231dca9dd3bf17a66065b59bafa685979cd69e1e107576ad48')]\n",
      "./1/234.txt\n",
      "e3b0c44298fc1c149afbf4c8996fb92427ae41e4649b934ca495991b7852b855\n",
      "./hash_test.ipynb\n",
      "df219c663749ed74f65cea7eefed9ce144f0e03f3071aa1e101a85bb0b8ddda5\n",
      "./Covid 19 Immunity Tips.exe\n",
      "e4e5c3a6c15beff4e17117075e2c0bd65f176d81e6885134d2b4d97c20d4773a\n",
      "./hash_test2.py\n",
      "aaa8ed587581ac231dca9dd3bf17a66065b59bafa685979cd69e1e107576ad48\n"
     ]
    }
   ],
   "source": [
    "files_name_sha256=[]\n",
    "for filedir in allfiles:\n",
    "    with open(filedir,'rb') as f:\n",
    "        sha256=hashlib.sha256(f.read()).hexdigest()\n",
    "        files_name_sha256.append((filedir,sha256))\n",
    "    print(filedir,sha256)\n",
    "    print(files_name_sha256)\n",
    "for file_name,file_sha256 in files_name_sha256:\n",
    "    print(file_name)\n",
    "    print(file_sha256)"
   ]
  },
  {
   "cell_type": "code",
   "execution_count": null,
   "metadata": {},
   "outputs": [],
   "source": [
    "from py2neo import Graph,Node,Relationship,NodeMatcher\n",
    "\n",
    "g = Graph('http://192.168.100.32:7474', auth=('neo4j','neo4j'), name='neo4j')\n",
    "\n",
    "nodes=NodeMatcher(g)\n",
    "\n",
    "#node_single= nodes.match(\"Malware\",sha256=sha256).first()\n",
    "node_single= nodes.match(\"Malware\",sha256=56).first()\n",
    "print(node_single)"
   ]
  }
 ],
 "metadata": {
  "kernelspec": {
   "display_name": "Python 3",
   "language": "python",
   "name": "python3"
  },
  "language_info": {
   "codemirror_mode": {
    "name": "ipython",
    "version": 3
   },
   "file_extension": ".py",
   "mimetype": "text/x-python",
   "name": "python",
   "nbconvert_exporter": "python",
   "pygments_lexer": "ipython3",
   "version": "3.10.6"
  },
  "orig_nbformat": 4
 },
 "nbformat": 4,
 "nbformat_minor": 2
}
