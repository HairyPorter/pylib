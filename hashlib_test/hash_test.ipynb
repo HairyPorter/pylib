{
 "cells": [
  {
   "cell_type": "code",
   "execution_count": 11,
   "metadata": {},
   "outputs": [
    {
     "name": "stdout",
     "output_type": "stream",
     "text": [
      "e4e5c3a6c15beff4e17117075e2c0bd65f176d81e6885134d2b4d97c20d4773a\n"
     ]
    }
   ],
   "source": [
    "import hashlib\n",
    "with open('/home/luhui/code/pylib/Covid 19 Immunity Tips.exe','rb') as f:\n",
    "    sha256=hashlib.sha256(f.read()).hexdigest()\n",
    "print(sha256)"
   ]
  },
  {
   "cell_type": "code",
   "execution_count": 20,
   "metadata": {},
   "outputs": [
    {
     "name": "stdout",
     "output_type": "stream",
     "text": [
      "{'sha256': 'e4e5c3a6c15beff4e17117075e2c0bd65f176d81e6885134d2b4d97c20d4773a', 'name': 'Covid_19_Immunity_Tips.exe', 'md5': '76fffeef410bd6b633c09c0f6529891d'}\n"
     ]
    }
   ],
   "source": [
    "from py2neo import Graph,Node,Relationship,NodeMatcher\n",
    "file_sha256='e4e5c3a6c15beff4e17117075e2c0bd65f176d81e6885134d2b4d97c20d4773a'\n",
    "g = Graph('http://192.168.100.32:7474', auth=('neo4j','neo4j'), name='neo4j')\n",
    "node_single=NodeMatcher(g).match(\"Malware\",sha256=file_sha256).first()\n",
    "node_single_dict=dict(node_single)\n",
    "\n",
    "print(node_single_dict)"
   ]
  },
  {
   "cell_type": "code",
   "execution_count": 57,
   "metadata": {},
   "outputs": [
    {
     "name": "stdout",
     "output_type": "stream",
     "text": [
      "{'sha256': 'e4e5c3a6c15beff4e17117075e2c0bd65f176d81e6885134d2b4d97c20d4773a', 'name': 'Covid_19_Immunity_Tips.exe', 'md5': '76fffeef410bd6b633c09c0f6529891d', 'magic': {'PE32_executable_for_MS_Windows_(GUI)_Intel_80386_32-bit_Mono', '.Net_assembly'}, 'file_type': {'Win32_EXE'}}\n"
     ]
    }
   ],
   "source": [
    "from py2neo import Graph,Node,Relationship,NodeMatcher,RelationshipMatcher\n",
    "\n",
    "file_sha256='e4e5c3a6c15beff4e17117075e2c0bd65f176d81e6885134d2b4d97c20d4773a'\n",
    "g = Graph('http://192.168.100.32:7474', auth=('neo4j','neo4j'), name='neo4j')\n",
    "node_single=NodeMatcher(g).match(\"Malware\",sha256=file_sha256).first()\n",
    "node_single_dict=dict(node_single)\n",
    "\n",
    "relationships_m=RelationshipMatcher(g).match([node_single]).all()\n",
    "endnodes=[]\n",
    "\n",
    "for rel in relationships_m:\n",
    "    endnodes.append(rel.end_node)\n",
    "\n",
    "node_single_dict['magic']=set()\n",
    "node_single_dict['file_type']=set()\n",
    "for end_n in endnodes:\n",
    "    if(set(end_n.labels)=={'Magic'}):\n",
    "        node_single_dict['magic'].add(end_n['name'])\n",
    "    if(set(end_n.labels)=={'FileType'}):\n",
    "        node_single_dict['file_type'].add(end_n['name'])\n",
    "print(node_single_dict)\n"
   ]
  },
  {
   "cell_type": "code",
   "execution_count": 3,
   "metadata": {},
   "outputs": [
    {
     "name": "stdout",
     "output_type": "stream",
     "text": [
      "hh\n"
     ]
    }
   ],
   "source": [
    "print('hh')"
   ]
  },
  {
   "cell_type": "code",
   "execution_count": null,
   "metadata": {},
   "outputs": [],
   "source": []
  },
  {
   "cell_type": "code",
   "execution_count": 25,
   "metadata": {},
   "outputs": [
    {
     "name": "stdout",
     "output_type": "stream",
     "text": [
      "None\n"
     ]
    }
   ],
   "source": [
    "\n",
    "from py2neo import Graph,Node,Relationship,NodeMatcher\n",
    "\n",
    "g = Graph('http://192.168.100.32:7474', auth=('neo4j','neo4j'), name='neo4j')\n",
    "\n",
    "nodes=NodeMatcher(g)\n",
    "\n",
    "#node_single= nodes.match(\"Malware\",sha256=sha256).first()\n",
    "node_single= nodes.match(\"Malware\",sha256=56).first()\n",
    "print(node_single)\n"
   ]
  },
  {
   "cell_type": "code",
   "execution_count": 2,
   "metadata": {},
   "outputs": [
    {
     "name": "stdout",
     "output_type": "stream",
     "text": [
<<<<<<< HEAD
      "d:\\pylib\\hashlib_test\n",
      ".\\1\n",
      ".\\1\\234.txt\n",
      ".\n",
      ".\\hash_test.ipynb\n",
      ".\\hash_test2.py\n",
=======
      "f:\\学习\\pycode\\pylib\\hashlib_test\n",
      ".\\1\n",
      ".\n",
>>>>>>> a198743 (。)
      "['.\\\\1\\\\234.txt', '.\\\\hash_test.ipynb', '.\\\\hash_test2.py']\n"
     ]
    }
   ],
   "source": [
    "import os\n",
    "allfiles=[]\n",
    "for root,dirs,files in os.walk(\".\",topdown=False):\n",
    "    for name in files:\n",
    "        name_t=os.path.join(root,name)\n",
    "        allfiles.append(name_t)\n",
    "        \n",
    "print(allfiles)"
   ]
  },
  {
   "cell_type": "code",
   "execution_count": 8,
   "metadata": {},
   "outputs": [
    {
     "name": "stdout",
     "output_type": "stream",
     "text": [
      "[('e3b0c44298fc1c149afbf4c8996fb92427ae41e4649b934ca495991b7852b855', '.\\\\1\\\\234.txt'), ('abd53c4d5c20f3263013c7f71d3a8ea47e029cef2e7b95d0ea82c20dd8390c34', '.\\\\hash_test.ipynb'), ('3f4b047db77c3bf9bef077e8e04382c700879dead675c867c9d27f3ff64ae993', '.\\\\hash_test2.py')]\n"
     ]
    }
   ],
   "source": [
    "import hashlib\n",
    "files_name_sha256=[]\n",
    "for filedir in allfiles:\n",
    "    with open(filedir,'rb') as f:\n",
    "        file_sha256=hashlib.sha256(f.read()).hexdigest()\n",
    "        files_name_sha256.append((file_sha256,filedir))\n",
    "    # print(filedir,sha256)\n",
    "print(files_name_sha256)\n",
    "# for file_name,file_sha256 in files_name_sha256:\n",
    "#     print(file_name)\n",
    "#     print(file_sha256)"
   ]
  },
  {
   "cell_type": "code",
   "execution_count": 59,
   "metadata": {},
   "outputs": [
    {
     "name": "stdout",
     "output_type": "stream",
     "text": [
      "{'sha256': 'e4e5c3a6c15beff4e17117075e2c0bd65f176d81e6885134d2b4d97c20d4773a', 'name': 'Covid_19_Immunity_Tips.exe', 'md5': '76fffeef410bd6b633c09c0f6529891d', 'magic': {'PE32_executable_for_MS_Windows_(GUI)_Intel_80386_32-bit_Mono', '.Net_assembly'}, 'file_type': {'Win32_EXE'}, 'local_dir': '.\\\\1\\\\234.txt'}\n"
     ]
    }
   ],
   "source": [
    "fns_dict=dict(files_name_sha256)\n",
    "\n",
    "local_dir=fns_dict['e3b0c44298fc1c149afbf4c8996fb92427ae41e4649b934ca495991b7852b855']\n",
    "node_single_dict['local_dir']=local_dir\n",
    "print(node_single_dict)"
   ]
  },
  {
   "cell_type": "code",
   "execution_count": 7,
   "metadata": {},
   "outputs": [
    {
     "name": "stdout",
     "output_type": "stream",
     "text": [
      "['e3b0c44298fc1c149afbf4c8996fb92427ae41e4649b934ca495991b7852b855', 'b25a21e3f1860cd325ddcab7f74213b8e58a08760deba177b174a986e027bcb7', '3f4b047db77c3bf9bef077e8e04382c700879dead675c867c9d27f3ff64ae993']\n",
      "64\n"
     ]
    }
   ],
   "source": [
    "import hashlib\n",
    "files_sha256=[]\n",
    "for filedir in allfiles:\n",
    "    with open(filedir,'rb') as f:\n",
    "        sha256=hashlib.sha256(f.read()).hexdigest()\n",
    "        # sha256=hashlib.sha256(f.read())\n",
    "        files_sha256.append(sha256)\n",
    "\n",
    "print(files_sha256)\n",
    "# print(len(files_sha256[0]))\n",
    "    \n"
   ]
  },
  {
   "cell_type": "code",
   "execution_count": null,
   "metadata": {},
   "outputs": [],
   "source": []
  },
  {
   "cell_type": "code",
   "execution_count": 12,
   "metadata": {},
   "outputs": [
    {
     "ename": "NameError",
     "evalue": "name 'sha256' is not defined",
     "output_type": "error",
     "traceback": [
      "\u001b[1;31m---------------------------------------------------------------------------\u001b[0m",
      "\u001b[1;31mNameError\u001b[0m                                 Traceback (most recent call last)",
      "Cell \u001b[1;32mIn[12], line 11\u001b[0m\n\u001b[0;32m      5\u001b[0m nodes\u001b[39m=\u001b[39mNodeMatcher(g)\n\u001b[0;32m      6\u001b[0m \u001b[39m# NodeMatcher.get\u001b[39;00m\n\u001b[0;32m      7\u001b[0m \u001b[39m# NodeMatch.where()\u001b[39;00m\n\u001b[0;32m      8\u001b[0m \u001b[39m# NodeMatch.skip\u001b[39;00m\n\u001b[0;32m      9\u001b[0m \u001b[39m# NodeMatch.order_by\u001b[39;00m\n\u001b[0;32m     10\u001b[0m \u001b[39m# NodeMatch.where\u001b[39;00m\n\u001b[1;32m---> 11\u001b[0m node_single\u001b[39m=\u001b[39m nodes\u001b[39m.\u001b[39mmatch(\u001b[39m\"\u001b[39m\u001b[39mMalware\u001b[39m\u001b[39m\"\u001b[39m,sha256\u001b[39m=\u001b[39msha256)\u001b[39m.\u001b[39mfirst()\n\u001b[0;32m     12\u001b[0m \u001b[39m# node_single= nodes.match(\"Malware\",sha256=56).first()\u001b[39;00m\n\u001b[0;32m     13\u001b[0m \u001b[39mprint\u001b[39m(node_single)\n",
      "\u001b[1;31mNameError\u001b[0m: name 'sha256' is not defined"
     ]
    }
   ],
   "source": [
    "from py2neo import Graph,NodeMatcher,NodeMatch\n",
    "\n",
    "g = Graph('http://192.168.100.32:7474', auth=('neo4j','neo4j'), name='neo4j')\n",
    "\n",
    "nodes=NodeMatcher(g)\n",
    "# NodeMatcher.get\n",
    "# NodeMatch.where()\n",
    "# NodeMatch.skip\n",
    "# NodeMatch.order_by\n",
    "# NodeMatch.where\n",
    "node_single= nodes.match(\"Malware\",sha256=sha256).first()\n",
    "# node_single= nodes.match(\"Malware\",sha256=56).first()\n",
    "print(node_single)"
   ]
  },
  {
   "cell_type": "code",
   "execution_count": 63,
   "metadata": {},
   "outputs": [
    {
     "name": "stdout",
     "output_type": "stream",
     "text": [
      "{'sha256': 'e4e5c3a6c15beff4e17117075e2c0bd65f176d81e6885134d2b4d97c20d4773a',\n",
      " 'name': 'Covid_19_Immunity_Tips.exe',\n",
      " 'md5': '76fffeef410bd6b633c09c0f6529891d',\n",
      " 'magic': {'PE32_executable_for_MS_Windows_(GUI)_Intel_80386_32-bit_Mono',\n",
      " '.Net_assembly'},\n",
      " 'file_type': {'Win32_EXE'},\n",
      " 'local_dir': '.\\\\1\\\\234.txt'}\n"
     ]
    }
   ],
   "source": [
    "# print(node_single_dict)\n",
    "print(str(node_single_dict).replace(',',',\\n'))"
   ]
  },
  {
   "attachments": {},
   "cell_type": "markdown",
   "metadata": {},
   "source": [
    "- 整合\n"
   ]
  },
  {
   "cell_type": "code",
   "execution_count": 47,
   "metadata": {},
   "outputs": [
    {
     "name": "stdout",
     "output_type": "stream",
     "text": [
      "检测目录：\t d:\\pylib\\hashlib_test\n",
      "---------- 检测到疑似恶意代码 ----------\n",
      "发现 1 个疑似恶意代码\n",
      "{'sha256': '3ae1e11ad92abb55239abb2d714c5b45e8bffdf774c6e7eefec0f862609c4bc4',\n",
      " 'name': 'MwImitator.exe',\n",
      " 'md5': 'd41d8cd98f00b204e9800998ecf8427e',\n",
      " 'local_dir': '.\\\\1\\\\mw\\\\MwImitator.exe',\n",
      " 'magic': {'PE32_executable_for_MS_Windows_(GUI)_Intel_80386_32-bit'},\n",
      " 'file_type': {'Win32_EXE'}}\n",
      "检测时间 0.07079911231994629 s\n"
     ]
    }
   ],
   "source": [
    "import os\n",
    "from py2neo import Graph,Node,Relationship,NodeMatcher,RelationshipMatcher\n",
    "import hashlib\n",
    "import time\n",
    "\n",
    "time_start=time.time()\n",
    "\n",
    "check_root=os.getcwd()\n",
    "print(\"检测目录：\\t\",check_root)\n",
    "allfiles=[]\n",
    "for root,dirs,files in os.walk(\".\",topdown=False):\n",
    "    # print(root)\n",
    "    for name in files:\n",
    "        name_t=os.path.join(root,name)\n",
    "        allfiles.append(name_t)\n",
    "        # print(name_t)\n",
    "\n",
    "# print(allfiles)\n",
    "\n",
    "\n",
    "files_name_sha256=[]\n",
    "for filedir in allfiles:\n",
    "    with open(filedir,'rb') as f:\n",
    "        file_sha256=hashlib.sha256(f.read()).hexdigest()\n",
    "        files_name_sha256.append((file_sha256,filedir))\n",
    "\n",
    "# print(files_name_sha256)\n",
    "\n",
    "\n",
    "\n",
    "\n",
    "g = Graph('http://192.168.100.32:7474', auth=('neo4j','neo4j'), name='neo4j')\n",
    "\n",
    "nodes=NodeMatcher(g)\n",
    "mw_nodes=[]\n",
    "for sha256,n in files_name_sha256:\n",
    "    node_single= nodes.match(\"Malware\",sha256=sha256).first()\n",
    "    # print(node_single)\n",
    "    if node_single:\n",
    "        mw_nodes.append(node_single)\n",
    "\n",
    "# print(mw_nodes)\n",
    "mw_nodes_dict_list=[]\n",
    "# 如果是空的\n",
    "if not mw_nodes:\n",
    "    print('-'*10,\"未检测到疑似恶意代码\",'-'*10)\n",
    "else:\n",
    "    print('-'*10,\"检测到疑似恶意代码\",'-'*10)\n",
    "    for n in mw_nodes:\n",
    "        \n",
    "        # 前3个\n",
    "        mw_node_dict=dict(n)\n",
    "        # 路径\n",
    "        fns_dict=dict(files_name_sha256)\n",
    "        mw_node_dict['local_dir']=fns_dict[mw_node_dict['sha256']]\n",
    "        # magic，filetype\n",
    "        end_nodes=[]\n",
    "        mw_node_dict['magic']=set()\n",
    "        mw_node_dict['file_type']=set()\n",
    "        relationships_all=RelationshipMatcher(g).match([n]).all()\n",
    "        for rel in relationships_all:\n",
    "            end_nodes.append(rel.end_node)\n",
    "        for end_n in end_nodes:\n",
    "            if(set(end_n.labels)=={'Magic'}):\n",
    "                mw_node_dict['magic'].add(end_n['name'])\n",
    "            if(set(end_n.labels)=={'FileType'}):\n",
    "                mw_node_dict['file_type'].add(end_n['name'])\n",
    "\n",
    "        # print(mw_node_dict)\n",
    "\n",
    "        mw_nodes_dict_list.append(mw_node_dict)\n",
    "\n",
    "\n",
    "    print('发现',len(mw_nodes_dict_list),'个疑似恶意代码')\n",
    "    for n in mw_nodes_dict_list:\n",
    "        print(str(n).replace(',',',\\n'))\n",
    "    \n",
    "time_end=time.time()\n",
    "print('检测时间',time_end-time_start,'s')\n",
    "input('按Enter键退出')\n",
    "\n",
    "\n",
    "\n"
   ]
  },
  {
   "cell_type": "code",
   "execution_count": null,
   "metadata": {},
   "outputs": [],
   "source": []
  },
  {
   "cell_type": "code",
   "execution_count": 22,
   "metadata": {},
   "outputs": [
    {
     "name": "stdout",
     "output_type": "stream",
     "text": [
      "sha256:\t 3ae1e11ad92abb55239abb2d714c5b45e8bffdf774c6e7eefec0f862609c4bc4\n",
      "md5:\t d41d8cd98f00b204e9800998ecf8427e\n"
     ]
    }
   ],
   "source": [
    "import hashlib\n",
    "\n",
    "\n",
    "with open(\"./1/mw/MwImitator.exe\",'rb') as f:\n",
    "\n",
    "    print(\"sha256:\\t\",hashlib.sha256(f.read()).hexdigest())\n",
    "    print(\"md5:\\t\",hashlib.md5(f.read()).hexdigest())\n"
   ]
  },
  {
   "cell_type": "code",
   "execution_count": 28,
   "metadata": {},
   "outputs": [],
   "source": [
    "a=[]\n",
    "if a:\n",
    "    print(\"1\")"
   ]
  }
 ],
 "metadata": {
  "kernelspec": {
   "display_name": "Python 3",
   "language": "python",
   "name": "python3"
  },
  "language_info": {
   "codemirror_mode": {
    "name": "ipython",
    "version": 3
   },
   "file_extension": ".py",
   "mimetype": "text/x-python",
   "name": "python",
   "nbconvert_exporter": "python",
   "pygments_lexer": "ipython3",
   "version": "3.11.1"
  },
  "orig_nbformat": 4
 },
 "nbformat": 4,
 "nbformat_minor": 2
}
