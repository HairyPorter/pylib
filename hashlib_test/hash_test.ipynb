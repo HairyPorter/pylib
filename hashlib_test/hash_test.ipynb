{
 "cells": [
  {
   "cell_type": "code",
   "execution_count": 11,
   "metadata": {},
   "outputs": [
    {
     "name": "stdout",
     "output_type": "stream",
     "text": [
      "e4e5c3a6c15beff4e17117075e2c0bd65f176d81e6885134d2b4d97c20d4773a\n"
     ]
    }
   ],
   "source": [
    "import hashlib\n",
    "with open('/home/luhui/code/pylib/Covid 19 Immunity Tips.exe','rb') as f:\n",
    "    sha256=hashlib.sha256(f.read()).hexdigest()\n",
    "print(sha256)"
   ]
  },
  {
   "cell_type": "code",
   "execution_count": 20,
   "metadata": {},
   "outputs": [
    {
     "name": "stdout",
     "output_type": "stream",
     "text": [
      "{'sha256': 'e4e5c3a6c15beff4e17117075e2c0bd65f176d81e6885134d2b4d97c20d4773a', 'name': 'Covid_19_Immunity_Tips.exe', 'md5': '76fffeef410bd6b633c09c0f6529891d'}\n"
     ]
    }
   ],
   "source": [
    "from py2neo import Graph,Node,Relationship,NodeMatcher\n",
    "file_sha256='e4e5c3a6c15beff4e17117075e2c0bd65f176d81e6885134d2b4d97c20d4773a'\n",
    "g = Graph('http://192.168.100.32:7474', auth=('neo4j','neo4j'), name='neo4j')\n",
    "node_single=NodeMatcher(g).match(\"Malware\",sha256=file_sha256).first()\n",
    "node_single_dict=dict(node_single)\n",
    "\n",
    "print(node_single_dict)"
   ]
  },
  {
   "cell_type": "code",
   "execution_count": 57,
   "metadata": {},
   "outputs": [
    {
     "name": "stdout",
     "output_type": "stream",
     "text": [
      "{'sha256': 'e4e5c3a6c15beff4e17117075e2c0bd65f176d81e6885134d2b4d97c20d4773a', 'name': 'Covid_19_Immunity_Tips.exe', 'md5': '76fffeef410bd6b633c09c0f6529891d', 'magic': {'PE32_executable_for_MS_Windows_(GUI)_Intel_80386_32-bit_Mono', '.Net_assembly'}, 'file_type': {'Win32_EXE'}}\n"
     ]
    }
   ],
   "source": [
    "from py2neo import Graph,Node,Relationship,NodeMatcher,RelationshipMatcher\n",
    "\n",
    "file_sha256='e4e5c3a6c15beff4e17117075e2c0bd65f176d81e6885134d2b4d97c20d4773a'\n",
    "g = Graph('http://192.168.100.32:7474', auth=('neo4j','neo4j'), name='neo4j')\n",
    "node_single=NodeMatcher(g).match(\"Malware\",sha256=file_sha256).first()\n",
    "node_single_dict=dict(node_single)\n",
    "\n",
    "relationships_m=RelationshipMatcher(g).match([node_single]).all()\n",
    "endnodes=[]\n",
    "\n",
    "for rel in relationships_m:\n",
    "    endnodes.append(rel.end_node)\n",
    "\n",
    "node_single_dict['magic']=set()\n",
    "node_single_dict['file_type']=set()\n",
    "for end_n in endnodes:\n",
    "    if(set(end_n.labels)=={'Magic'}):\n",
    "        node_single_dict['magic'].add(end_n['name'])\n",
    "    if(set(end_n.labels)=={'FileType'}):\n",
    "        node_single_dict['file_type'].add(end_n['name'])\n",
    "print(node_single_dict)\n"
   ]
  },
  {
   "cell_type": "code",
   "execution_count": 3,
   "metadata": {},
   "outputs": [
    {
     "name": "stdout",
     "output_type": "stream",
     "text": [
      "hh\n"
     ]
    }
   ],
   "source": [
    "print('hh')"
   ]
  },
  {
   "cell_type": "code",
   "execution_count": null,
   "metadata": {},
   "outputs": [],
   "source": []
  },
  {
   "cell_type": "code",
   "execution_count": 25,
   "metadata": {},
   "outputs": [
    {
     "name": "stdout",
     "output_type": "stream",
     "text": [
      "None\n"
     ]
    }
   ],
   "source": [
    "\n",
    "from py2neo import Graph,Node,Relationship,NodeMatcher\n",
    "\n",
    "g = Graph('http://192.168.100.32:7474', auth=('neo4j','neo4j'), name='neo4j')\n",
    "\n",
    "nodes=NodeMatcher(g)\n",
    "\n",
    "#node_single= nodes.match(\"Malware\",sha256=sha256).first()\n",
    "node_single= nodes.match(\"Malware\",sha256=56).first()\n",
    "print(node_single)\n"
   ]
  },
  {
   "cell_type": "code",
   "execution_count": 2,
   "metadata": {},
   "outputs": [
    {
     "name": "stdout",
     "output_type": "stream",
     "text": [
      "d:\\pylib\\hashlib_test\n",
      ".\\1\n",
      ".\\1\\234.txt\n",
      ".\n",
      ".\\hash_test.ipynb\n",
      ".\\hash_test2.py\n",
      "['.\\\\1\\\\234.txt', '.\\\\hash_test.ipynb', '.\\\\hash_test2.py']\n"
     ]
    }
   ],
   "source": [
    "import os\n",
    "print(os.getcwd())\n",
    "allfiles=[]\n",
    "for root,dirs,files in os.walk(\".\",topdown=False):\n",
    "    print(root)\n",
    "    for name in files:\n",
    "        name_t=os.path.join(root,name)\n",
    "        allfiles.append(name_t)\n",
    "        print(name_t)\n",
    "#    for name in dirs:\n",
    "#        print(os.path.join(root,name))\n",
    "print(allfiles)"
   ]
  },
  {
   "cell_type": "code",
   "execution_count": 11,
   "metadata": {},
   "outputs": [
    {
     "name": "stdout",
     "output_type": "stream",
     "text": [
      "[('e3b0c44298fc1c149afbf4c8996fb92427ae41e4649b934ca495991b7852b855', '.\\\\1\\\\234.txt')]\n",
      "[('e3b0c44298fc1c149afbf4c8996fb92427ae41e4649b934ca495991b7852b855', '.\\\\1\\\\234.txt'), ('2d385da3370e4c63c8213542d11183d14734fc25d316a0ec6b3324535e8a0b75', '.\\\\hash_test.ipynb')]\n",
      "[('e3b0c44298fc1c149afbf4c8996fb92427ae41e4649b934ca495991b7852b855', '.\\\\1\\\\234.txt'), ('2d385da3370e4c63c8213542d11183d14734fc25d316a0ec6b3324535e8a0b75', '.\\\\hash_test.ipynb'), ('3f4b047db77c3bf9bef077e8e04382c700879dead675c867c9d27f3ff64ae993', '.\\\\hash_test2.py')]\n"
     ]
    }
   ],
   "source": [
    "import hashlib\n",
    "files_name_sha256=[]\n",
    "for filedir in allfiles:\n",
    "    with open(filedir,'rb') as f:\n",
    "        file_sha256=hashlib.sha256(f.read()).hexdigest()\n",
    "        files_name_sha256.append((file_sha256,filedir))\n",
    "    # print(filedir,sha256)\n",
    "    print(files_name_sha256)\n",
    "# for file_name,file_sha256 in files_name_sha256:\n",
    "#     print(file_name)\n",
    "#     print(file_sha256)"
   ]
  },
  {
   "cell_type": "code",
   "execution_count": 59,
   "metadata": {},
   "outputs": [
    {
     "name": "stdout",
     "output_type": "stream",
     "text": [
      "{'sha256': 'e4e5c3a6c15beff4e17117075e2c0bd65f176d81e6885134d2b4d97c20d4773a', 'name': 'Covid_19_Immunity_Tips.exe', 'md5': '76fffeef410bd6b633c09c0f6529891d', 'magic': {'PE32_executable_for_MS_Windows_(GUI)_Intel_80386_32-bit_Mono', '.Net_assembly'}, 'file_type': {'Win32_EXE'}, 'local_dir': '.\\\\1\\\\234.txt'}\n"
     ]
    }
   ],
   "source": [
    "fns_dict=dict(files_name_sha256)\n",
    "\n",
    "local_dir=fns_dict['e3b0c44298fc1c149afbf4c8996fb92427ae41e4649b934ca495991b7852b855']\n",
    "node_single_dict['local_dir']=local_dir\n",
    "print(node_single_dict)"
   ]
  },
  {
   "cell_type": "code",
   "execution_count": 7,
   "metadata": {},
   "outputs": [
    {
     "name": "stdout",
     "output_type": "stream",
     "text": [
      "['e3b0c44298fc1c149afbf4c8996fb92427ae41e4649b934ca495991b7852b855', 'b25a21e3f1860cd325ddcab7f74213b8e58a08760deba177b174a986e027bcb7', '3f4b047db77c3bf9bef077e8e04382c700879dead675c867c9d27f3ff64ae993']\n",
      "64\n"
     ]
    }
   ],
   "source": [
    "import hashlib\n",
    "files_sha256=[]\n",
    "for filedir in allfiles:\n",
    "    with open(filedir,'rb') as f:\n",
    "        sha256=hashlib.sha256(f.read()).hexdigest()\n",
    "        # sha256=hashlib.sha256(f.read())\n",
    "        files_sha256.append(sha256)\n",
    "\n",
    "print(files_sha256)\n",
    "# print(len(files_sha256[0]))\n",
    "    \n"
   ]
  },
  {
   "cell_type": "code",
   "execution_count": null,
   "metadata": {},
   "outputs": [],
   "source": []
  },
  {
   "cell_type": "code",
   "execution_count": null,
   "metadata": {},
   "outputs": [
    {
     "ename": "",
     "evalue": "",
     "output_type": "error",
     "traceback": [
      "\u001b[1;31mCanceled future for execute_request message before replies were done"
     ]
    },
    {
     "ename": "",
     "evalue": "",
     "output_type": "error",
     "traceback": [
      "\u001b[1;31mThe Kernel crashed while executing code in the the current cell or a previous cell. Please review the code in the cell(s) to identify a possible cause of the failure. Click <a href='https://aka.ms/vscodeJupyterKernelCrash'>here</a> for more info. View Jupyter <a href='command:jupyter.viewOutput'>log</a> for further details."
     ]
    }
   ],
   "source": [
    "from py2neo import Graph,NodeMatcher,NodeMatch\n",
    "\n",
    "g = Graph('http://192.168.100.32:7474', auth=('neo4j','neo4j'), name='neo4j')\n",
    "\n",
    "nodes=NodeMatcher(g)\n",
    "NodeMatcher.get\n",
    "NodeMatch.where()\n",
    "NodeMatch.skip\n",
    "NodeMatch.order_by\n",
    "NodeMatch.where\n",
    "node_single= nodes.match(\"Malware\",sha256=sha256).first()\n",
    "# node_single= nodes.match(\"Malware\",sha256=56).first()\n",
    "print(node_single)"
   ]
  },
  {
   "cell_type": "code",
   "execution_count": 63,
   "metadata": {},
   "outputs": [
    {
     "name": "stdout",
     "output_type": "stream",
     "text": [
      "{'sha256': 'e4e5c3a6c15beff4e17117075e2c0bd65f176d81e6885134d2b4d97c20d4773a',\n",
      " 'name': 'Covid_19_Immunity_Tips.exe',\n",
      " 'md5': '76fffeef410bd6b633c09c0f6529891d',\n",
      " 'magic': {'PE32_executable_for_MS_Windows_(GUI)_Intel_80386_32-bit_Mono',\n",
      " '.Net_assembly'},\n",
      " 'file_type': {'Win32_EXE'},\n",
      " 'local_dir': '.\\\\1\\\\234.txt'}\n"
     ]
    }
   ],
   "source": [
    "# print(node_single_dict)\n",
    "print(str(node_single_dict).replace(',',',\\n'))"
   ]
  }
 ],
 "metadata": {
  "kernelspec": {
   "display_name": "Python 3",
   "language": "python",
   "name": "python3"
  },
  "language_info": {
   "codemirror_mode": {
    "name": "ipython",
    "version": 3
   },
   "file_extension": ".py",
   "mimetype": "text/x-python",
   "name": "python",
   "nbconvert_exporter": "python",
   "pygments_lexer": "ipython3",
   "version": "3.11.1"
  },
  "orig_nbformat": 4
 },
 "nbformat": 4,
 "nbformat_minor": 2
}
