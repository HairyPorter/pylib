{
 "cells": [
  {
   "attachments": {},
   "cell_type": "markdown",
   "metadata": {},
   "source": [
    "- 预处理，可以进行数字字母转换"
   ]
  },
  {
   "cell_type": "code",
   "execution_count": 6,
   "metadata": {},
   "outputs": [
    {
     "name": "stdout",
     "output_type": "stream",
     "text": [
      "b\n",
      "c\n",
      "d\n",
      "e\n"
     ]
    }
   ],
   "source": [
    "str1 = \" Abcd \".lower().strip()\n",
    "for c in str1:\n",
    "    print(chr(ord(c)+1))"
   ]
  },
  {
   "cell_type": "code",
   "execution_count": 15,
   "metadata": {},
   "outputs": [
    {
     "name": "stdout",
     "output_type": "stream",
     "text": [
      "0\n",
      "2\n",
      "i\n",
      "123123\n"
     ]
    }
   ],
   "source": [
    "print(2//3)\n",
    "print(26%3)\n",
    "for i in range(1):\n",
    "    print(\"i\")\n",
    "str2=\"123\"\n",
    "str2+=\"123\"\n",
    "print(str2)"
   ]
  },
  {
   "attachments": {},
   "cell_type": "markdown",
   "metadata": {},
   "source": [
    "- 转换为excel表格列的字母"
   ]
  },
  {
   "cell_type": "code",
   "execution_count": null,
   "metadata": {},
   "outputs": [],
   "source": [
    "def num2litter(num):\n",
    "    # 0~25转换到AB...Z\n",
    "    if(num<0 or num>25):\n",
    "        return 0\n",
    "    else:\n",
    "        return chr(ord(\"A\")+num)\n",
    "def n2xlrow(num):\n",
    "    # 转换为excel列标（从1开始）\n",
    "    count=26\n",
    "    output=\"\"\n",
    "    if(num<=0):\n",
    "        return 0\n",
    "    elif(num>=1 and num<=count):\n",
    "        output+=num2litter(num-1)\n",
    "    else: \n",
    "        output+=n2xlrow((num-1)//count)\n",
    "        output+=num2litter((num-1)%26)\n",
    "    return output\n",
    "\n",
    "# for i in range(1,29):\n",
    "#     print(n2xlrow(i))\n",
    "for i in range(50):\n",
    "    print(n2xlrow(i))"
   ]
  },
  {
   "cell_type": "code",
   "execution_count": 71,
   "metadata": {},
   "outputs": [
    {
     "data": {
      "text/plain": [
       "4"
      ]
     },
     "execution_count": 71,
     "metadata": {},
     "output_type": "execute_result"
    }
   ],
   "source": [
    "list1=[1,2,3,4]\n",
    "len(list1)"
   ]
  },
  {
   "cell_type": "code",
   "execution_count": 88,
   "metadata": {},
   "outputs": [
    {
     "data": {
      "text/plain": [
       "('sssa', '33')"
      ]
     },
     "execution_count": 88,
     "metadata": {},
     "output_type": "execute_result"
    }
   ],
   "source": [
    "def xl_rc_split(site):\n",
    "    # 把输入excel坐标分解成(列,行)\n",
    "    i=0\n",
    "    for c in site:\n",
    "        if(ord(c)>=ord('0') and ord(c)<=ord('9')):\n",
    "            break\n",
    "        else:\n",
    "            i+=1\n",
    "\n",
    "    return (site[:i],site[i:])\n",
    "\n",
    "xl_rc_split(\"sssa33\")\n"
   ]
  },
  {
   "cell_type": "code",
   "execution_count": 77,
   "metadata": {},
   "outputs": [
    {
     "name": "stdout",
     "output_type": "stream",
     "text": [
      "48\n",
      "49\n",
      "50\n",
      "51\n",
      "52\n",
      "53\n",
      "54\n",
      "55\n",
      "56\n",
      "57\n"
     ]
    }
   ],
   "source": [
    "for i in '0123456789':\n",
    "    print(ord(i))"
   ]
  },
  {
   "cell_type": "code",
   "execution_count": 90,
   "metadata": {},
   "outputs": [],
   "source": [
    "r,c = (\"1\",\"2\")"
   ]
  },
  {
   "cell_type": "code",
   "execution_count": 101,
   "metadata": {},
   "outputs": [
    {
     "name": "stdout",
     "output_type": "stream",
     "text": [
      "731\n"
     ]
    }
   ],
   "source": [
    "def xlrow2n(row):\n",
    "    # 把列标转换为数字\n",
    "    row=row.lower()\n",
    "    output=0\n",
    "    e=len(row)-1\n",
    "    for c in row:\n",
    "\n",
    "        if(ord(c)<ord('a') and ord(c)>ord('z')):\n",
    "            return 0\n",
    "        else:\n",
    "            output+=(ord(c)-ord('a')+1)*(26**e)\n",
    "        e-=1\n",
    "    return output\n",
    "print(xlrow2n(\"ABC\"))"
   ]
  },
  {
   "cell_type": "code",
   "execution_count": 92,
   "metadata": {},
   "outputs": [
    {
     "data": {
      "text/plain": [
       "97"
      ]
     },
     "execution_count": 92,
     "metadata": {},
     "output_type": "execute_result"
    }
   ],
   "source": [
    "ord('a')"
   ]
  }
 ],
 "metadata": {
  "kernelspec": {
   "display_name": "Python 3",
   "language": "python",
   "name": "python3"
  },
  "language_info": {
   "codemirror_mode": {
    "name": "ipython",
    "version": 3
   },
   "file_extension": ".py",
   "mimetype": "text/x-python",
   "name": "python",
   "nbconvert_exporter": "python",
   "pygments_lexer": "ipython3",
   "version": "3.11.1"
  },
  "orig_nbformat": 4
 },
 "nbformat": 4,
 "nbformat_minor": 2
}
