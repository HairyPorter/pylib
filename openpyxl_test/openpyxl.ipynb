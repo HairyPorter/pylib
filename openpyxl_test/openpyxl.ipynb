{
 "cells": [
  {
   "attachments": {},
   "cell_type": "markdown",
   "metadata": {},
   "source": [
    "白搞，可以直接对sheet append\n"
   ]
  },
  {
   "attachments": {},
   "cell_type": "markdown",
   "metadata": {},
   "source": [
    "- 预处理，可以进行数字字母转换"
   ]
  },
  {
   "cell_type": "code",
   "execution_count": 6,
   "metadata": {},
   "outputs": [
    {
     "name": "stdout",
     "output_type": "stream",
     "text": [
      "b\n",
      "c\n",
      "d\n",
      "e\n"
     ]
    }
   ],
   "source": [
    "str1 = \" Abcd \".lower().strip()\n",
    "for c in str1:\n",
    "    print(chr(ord(c)+1))"
   ]
  },
  {
   "cell_type": "code",
   "execution_count": 15,
   "metadata": {},
   "outputs": [
    {
     "name": "stdout",
     "output_type": "stream",
     "text": [
      "0\n",
      "2\n",
      "i\n",
      "123123\n"
     ]
    }
   ],
   "source": [
    "print(2//3)\n",
    "print(26%3)\n",
    "for i in range(1):\n",
    "    print(\"i\")\n",
    "str2=\"123\"\n",
    "str2+=\"123\"\n",
    "print(str2)"
   ]
  },
  {
   "attachments": {},
   "cell_type": "markdown",
   "metadata": {},
   "source": [
    "- 转换为excel表格列的字母"
   ]
  },
  {
   "cell_type": "code",
   "execution_count": null,
   "metadata": {},
   "outputs": [],
   "source": [
    "def num2litter(num):\n",
    "    # 0~25转换到AB...Z\n",
    "    if(num<0 or num>25):\n",
    "        return 0\n",
    "    else:\n",
    "        return chr(ord(\"A\")+num)\n",
    "def n2xlrow(num):\n",
    "    # 转换为excel列标（从1开始）\n",
    "    count=26\n",
    "    output=\"\"\n",
    "    if(num<=0):\n",
    "        return 0\n",
    "    elif(num>=1 and num<=count):\n",
    "        output+=num2litter(num-1)\n",
    "    else: \n",
    "        output+=n2xlrow((num-1)//count)\n",
    "        output+=num2litter((num-1)%26)\n",
    "    return output\n",
    "\n",
    "# for i in range(1,29):\n",
    "#     print(n2xlrow(i))\n",
    "for i in range(50):\n",
    "    print(n2xlrow(i))"
   ]
  },
  {
   "cell_type": "code",
   "execution_count": 71,
   "metadata": {},
   "outputs": [
    {
     "data": {
      "text/plain": [
       "4"
      ]
     },
     "execution_count": 71,
     "metadata": {},
     "output_type": "execute_result"
    }
   ],
   "source": [
    "list1=[1,2,3,4]\n",
    "len(list1)"
   ]
  },
  {
   "cell_type": "code",
   "execution_count": 88,
   "metadata": {},
   "outputs": [
    {
     "data": {
      "text/plain": [
       "('sssa', '33')"
      ]
     },
     "execution_count": 88,
     "metadata": {},
     "output_type": "execute_result"
    }
   ],
   "source": [
    "def xl_rc_split(site):\n",
    "    # 把输入excel坐标分解成(列,行)\n",
    "    i=0\n",
    "    for c in site:\n",
    "        if(ord(c)>=ord('0') and ord(c)<=ord('9')):\n",
    "            break\n",
    "        else:\n",
    "            i+=1\n",
    "\n",
    "    return (site[:i],site[i:])\n",
    "\n",
    "xl_rc_split(\"sssa33\")\n"
   ]
  },
  {
   "cell_type": "code",
   "execution_count": 77,
   "metadata": {},
   "outputs": [
    {
     "name": "stdout",
     "output_type": "stream",
     "text": [
      "48\n",
      "49\n",
      "50\n",
      "51\n",
      "52\n",
      "53\n",
      "54\n",
      "55\n",
      "56\n",
      "57\n"
     ]
    }
   ],
   "source": [
    "for i in '0123456789':\n",
    "    print(ord(i))"
   ]
  },
  {
   "cell_type": "code",
   "execution_count": 90,
   "metadata": {},
   "outputs": [],
   "source": [
    "r,c = (\"1\",\"2\")"
   ]
  },
  {
   "cell_type": "code",
   "execution_count": 101,
   "metadata": {},
   "outputs": [
    {
     "name": "stdout",
     "output_type": "stream",
     "text": [
      "731\n"
     ]
    }
   ],
   "source": [
    "def xlrow2n(row):\n",
    "    # 把列标转换为数字\n",
    "    row=row.lower()\n",
    "    output=0\n",
    "    e=len(row)-1\n",
    "    for c in row:\n",
    "\n",
    "        if(ord(c)<ord('a') and ord(c)>ord('z')):\n",
    "            return 0\n",
    "        else:\n",
    "            output+=(ord(c)-ord('a')+1)*(26**e)\n",
    "        e-=1\n",
    "    return output\n",
    "print(xlrow2n(\"ABC\"))"
   ]
  },
  {
   "cell_type": "code",
   "execution_count": 92,
   "metadata": {},
   "outputs": [
    {
     "data": {
      "text/plain": [
       "97"
      ]
     },
     "execution_count": 92,
     "metadata": {},
     "output_type": "execute_result"
    }
   ],
   "source": [
    "ord('a')"
   ]
  },
  {
   "cell_type": "code",
   "execution_count": 1,
   "metadata": {},
   "outputs": [
    {
     "name": "stdout",
     "output_type": "stream",
     "text": [
      "('Filename', 'MD5', 'SHA-256', 'File type', 'Magic')\n",
      "('AWARENESS NOTICE ON CORONAVIRUS COVID-19 DOCUMENT_pdf.exe', '9498ba71b33e9e9e19c352579e0d1b0a', 'da26ba1e13ce4702bd5154789ce1a699ba206c12021d9823380febd795f5b002', 'Win32 EXE', 'PE32 executable for MS Windows (GUI) Intel 80386 32-bit')\n",
      "('1Original_document_exe.bin', 'e7351df51633435293ddc09de7fdc57c', '7b98cd3800dede6537cf78e7b61eeeda71d251dc97c70cb7c2135c6aa310ab7f', 'Win32 EXE', 'PE32 executable for MS Windows (GUI) Intel 80386 32-bit')\n",
      "('Γενική ειδοποίηση χρονοδιαγράμματος εργασίας στο COVID-19', '62f9618752fffbd4ff7d52fdc39ec5fb', 'f681c1f8c12956a20c27beb9be1112374fefc7651884d7dd92010b40db1e7bee', 'Win32 EXE', 'PE32 executable for MS Windows (GUI) Intel 80386 32-bit')\n",
      "('Persons_status_details_list.xlsx', '61d50cbcdc5c52588bd79736ac7dd5e0', 'd56bb81d0f8e4de24dc12a7d963ed95eec36291c71a29d6b434e72f098cc1131', 'Office Open XML Spreadsheet', 'Zip archive data')\n",
      "('COVID-19 WHO RECOMENDED V.exe', '1179a7989031fc4b6331505b388dcb12', 'd150feb631d6e9050b7fb76db57504e6dcc2715fe03e45db095f50d56a9495a5', 'Win32 EXE', 'PE32 executable for MS Windows (GUI) Intel 80386 32-bit Mono/.Net assembly')\n",
      "('YkZeIEiv.exe', '1179a7989031fc4b6331505b388dcb12', 'd150feb631d6e9050b7fb76db57504e6dcc2715fe03e45db095f50d56a9495a5', 'Win32 EXE', 'PE32 executable for MS Windows (GUI) Intel 80386 32-bit Mono/.Net assembly')\n",
      "('Covid 19 Immunity Tips.exe', '76fffeef410bd6b633c09c0f6529891d', 'e4e5c3a6c15beff4e17117075e2c0bd65f176d81e6885134d2b4d97c20d4773a', 'Win32 EXE', 'PE32 executable for MS Windows (GUI) Intel 80386 32-bit Mono/.Net assembly')\n"
     ]
    }
   ],
   "source": [
    "import openpyxl as xl\n",
    "workbook = xl.load_workbook('hello_world2.xlsx')\n",
    "sheet = workbook.active\n",
    "for row in sheet.iter_rows(values_only=True):\n",
    "    print(row)"
   ]
  },
  {
   "attachments": {},
   "cell_type": "markdown",
   "metadata": {},
   "source": [
    "- ' '->'_'"
   ]
  },
  {
   "cell_type": "code",
   "execution_count": 10,
   "metadata": {},
   "outputs": [
    {
     "name": "stdout",
     "output_type": "stream",
     "text": [
      "('Filename', 'MD5', 'SHA-256', 'File_type', 'Magic')\n",
      "('AWARENESS_NOTICE_ON_CORONAVIRUS_COVID-19_DOCUMENT_pdf.exe', '9498ba71b33e9e9e19c352579e0d1b0a', 'da26ba1e13ce4702bd5154789ce1a699ba206c12021d9823380febd795f5b002', 'Win32_EXE', 'PE32_executable_for_MS_Windows_(GUI)_Intel_80386_32-bit')\n",
      "('1Original_document_exe.bin', 'e7351df51633435293ddc09de7fdc57c', '7b98cd3800dede6537cf78e7b61eeeda71d251dc97c70cb7c2135c6aa310ab7f', 'Win32_EXE', 'PE32_executable_for_MS_Windows_(GUI)_Intel_80386_32-bit')\n",
      "('Γενική_ειδοποίηση_χρονοδιαγράμματος_εργασίας_στο_COVID-19', '62f9618752fffbd4ff7d52fdc39ec5fb', 'f681c1f8c12956a20c27beb9be1112374fefc7651884d7dd92010b40db1e7bee', 'Win32_EXE', 'PE32_executable_for_MS_Windows_(GUI)_Intel_80386_32-bit')\n",
      "('Persons_status_details_list.xlsx', '61d50cbcdc5c52588bd79736ac7dd5e0', 'd56bb81d0f8e4de24dc12a7d963ed95eec36291c71a29d6b434e72f098cc1131', 'Office_Open_XML_Spreadsheet', 'Zip_archive_data')\n",
      "('COVID-19_WHO_RECOMENDED_V.exe', '1179a7989031fc4b6331505b388dcb12', 'd150feb631d6e9050b7fb76db57504e6dcc2715fe03e45db095f50d56a9495a5', 'Win32_EXE', 'PE32_executable_for_MS_Windows_(GUI)_Intel_80386_32-bit_Mono/.Net_assembly')\n",
      "('YkZeIEiv.exe', '1179a7989031fc4b6331505b388dcb12', 'd150feb631d6e9050b7fb76db57504e6dcc2715fe03e45db095f50d56a9495a5', 'Win32_EXE', 'PE32_executable_for_MS_Windows_(GUI)_Intel_80386_32-bit_Mono/.Net_assembly')\n",
      "('Covid_19_Immunity_Tips.exe', '76fffeef410bd6b633c09c0f6529891d', 'e4e5c3a6c15beff4e17117075e2c0bd65f176d81e6885134d2b4d97c20d4773a', 'Win32_EXE', 'PE32_executable_for_MS_Windows_(GUI)_Intel_80386_32-bit_Mono/.Net_assembly')\n"
     ]
    }
   ],
   "source": [
    "import openpyxl as xl\n",
    "workbook = xl.load_workbook('hello_world2.xlsx')\n",
    "sheet = workbook.active\n",
    "for row in sheet.iter_rows():\n",
    "    for cell in row:\n",
    "        cell.value=cell.value.strip().replace(' ','_')\n",
    "for row in sheet.iter_rows(values_only=True):\n",
    "    print(row)\n",
    "workbook.save(filename='hello_world3.xlsx')"
   ]
  },
  {
   "cell_type": "code",
   "execution_count": 4,
   "metadata": {},
   "outputs": [
    {
     "name": "stdout",
     "output_type": "stream",
     "text": [
      "1_2_3\n"
     ]
    }
   ],
   "source": [
    "str1=' 1 2 3 '\n",
    "str2=str1.strip().replace(' ','_')\n",
    "print(str2)\n"
   ]
  },
  {
   "cell_type": "code",
   "execution_count": null,
   "metadata": {},
   "outputs": [],
   "source": []
  }
 ],
 "metadata": {
  "kernelspec": {
   "display_name": "Python 3",
   "language": "python",
   "name": "python3"
  },
  "language_info": {
   "codemirror_mode": {
    "name": "ipython",
    "version": 3
   },
   "file_extension": ".py",
   "mimetype": "text/x-python",
   "name": "python",
   "nbconvert_exporter": "python",
   "pygments_lexer": "ipython3",
   "version": "3.10.6"
  },
  "orig_nbformat": 4
 },
 "nbformat": 4,
 "nbformat_minor": 2
}
