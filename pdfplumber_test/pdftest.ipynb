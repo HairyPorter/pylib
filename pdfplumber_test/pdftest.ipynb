{
 "cells": [
  {
   "cell_type": "code",
   "execution_count": 3,
   "metadata": {},
   "outputs": [
    {
     "name": "stdout",
     "output_type": "stream",
     "text": [
      "\n",
      "\n",
      "['File\\nContents:', None, None, 'Filename: AWARENESS NOTICE ON CORONAVIRUS COVID-19 DOCUMENT_pdf.exe\\nMD5: 9498ba71b33e9e9e19c352579e0d1b0a\\nSHA-256: da26ba1e13ce4702bd5154789ce1a699ba206c12021d9823380febd795f5b002\\nFile type: Win32 EXE\\nMagic: PE32 executable for MS Windows (GUI) Intel 80386 32-bit', None, None]\n",
      "\n",
      "\n",
      "['File\\nContents:', None, None, 'Filename: 1Original_document_exe.bin\\nMD5: e7351df51633435293ddc09de7fdc57c\\nSHA-256: 7b98cd3800dede6537cf78e7b61eeeda71d251dc97c70cb7c2135c6aa310ab7f\\nFile type: Win32 EXE\\nMagic: PE32 executable for MS Windows (GUI) Intel 80386 32-bit', None, None]\n",
      "\n",
      "\n",
      "['File\\nContents:', None, None, 'Filename: Γενική ειδοποίηση χρονοδιαγράμματος εργασίας στο COVID-19\\nMD5: 62f9618752fffbd4ff7d52fdc39ec5fb\\nSHA-256: f681c1f8c12956a20c27beb9be1112374fefc7651884d7dd92010b40db1e7bee\\nFile type: Win32 EXE\\nMagic: PE32 executable for MS Windows (GUI) Intel 80386 32-bit', None, None]\n",
      "\n",
      "\n",
      "['File\\nContents:', None, None, 'Filename: Persons_status_details_list.xlsx\\nMD5: 61d50cbcdc5c52588bd79736ac7dd5e0\\nSHA-256: d56bb81d0f8e4de24dc12a7d963ed95eec36291c71a29d6b434e72f098cc1131\\nFile type: Office Open XML Spreadsheet\\nMagic: Zip archive data', None, None]\n",
      "\n",
      "\n",
      "['File\\nContents:', None, None, 'Filenames: COVID-19 WHO RECOMENDED V.exe / YkZeIEiv.exe\\nMD5: 1179a7989031fc4b6331505b388dcb12\\nSHA-256: d150feb631d6e9050b7fb76db57504e6dcc2715fe03e45db095f50d56a9495a5\\nFile type: Win32 EXE\\nMagic: PE32 executable for MS Windows (GUI) Intel 80386 32-bit Mono/.Net assembly', None, None]\n",
      "\n",
      "\n",
      "['File\\nContents:', None, None, 'Filenames: Covid 19 Immunity Tips.exe\\nMD5: 76fffeef410bd6b633c09c0f6529891d\\nSHA-256: e4e5c3a6c15beff4e17117075e2c0bd65f176d81e6885134d2b4d97c20d4773a\\nFile type: Win32 EXE\\nMagic: PE32 executable for MS Windows (GUI) Intel 80386 32-bit Mono/.Net assembly', None, None]\n",
      "\n",
      "\n",
      "------ data ------\n",
      "data=\n",
      " [['File\\nContents:', None, None, 'Filename: AWARENESS NOTICE ON CORONAVIRUS COVID-19 DOCUMENT_pdf.exe\\nMD5: 9498ba71b33e9e9e19c352579e0d1b0a\\nSHA-256: da26ba1e13ce4702bd5154789ce1a699ba206c12021d9823380febd795f5b002\\nFile type: Win32 EXE\\nMagic: PE32 executable for MS Windows (GUI) Intel 80386 32-bit', None, None], ['File\\nContents:', None, None, 'Filename: 1Original_document_exe.bin\\nMD5: e7351df51633435293ddc09de7fdc57c\\nSHA-256: 7b98cd3800dede6537cf78e7b61eeeda71d251dc97c70cb7c2135c6aa310ab7f\\nFile type: Win32 EXE\\nMagic: PE32 executable for MS Windows (GUI) Intel 80386 32-bit', None, None], ['File\\nContents:', None, None, 'Filename: Γενική ειδοποίηση χρονοδιαγράμματος εργασίας στο COVID-19\\nMD5: 62f9618752fffbd4ff7d52fdc39ec5fb\\nSHA-256: f681c1f8c12956a20c27beb9be1112374fefc7651884d7dd92010b40db1e7bee\\nFile type: Win32 EXE\\nMagic: PE32 executable for MS Windows (GUI) Intel 80386 32-bit', None, None], ['File\\nContents:', None, None, 'Filename: Persons_status_details_list.xlsx\\nMD5: 61d50cbcdc5c52588bd79736ac7dd5e0\\nSHA-256: d56bb81d0f8e4de24dc12a7d963ed95eec36291c71a29d6b434e72f098cc1131\\nFile type: Office Open XML Spreadsheet\\nMagic: Zip archive data', None, None], ['File\\nContents:', None, None, 'Filenames: COVID-19 WHO RECOMENDED V.exe / YkZeIEiv.exe\\nMD5: 1179a7989031fc4b6331505b388dcb12\\nSHA-256: d150feb631d6e9050b7fb76db57504e6dcc2715fe03e45db095f50d56a9495a5\\nFile type: Win32 EXE\\nMagic: PE32 executable for MS Windows (GUI) Intel 80386 32-bit Mono/.Net assembly', None, None], ['File\\nContents:', None, None, 'Filenames: Covid 19 Immunity Tips.exe\\nMD5: 76fffeef410bd6b633c09c0f6529891d\\nSHA-256: e4e5c3a6c15beff4e17117075e2c0bd65f176d81e6885134d2b4d97c20d4773a\\nFile type: Win32 EXE\\nMagic: PE32 executable for MS Windows (GUI) Intel 80386 32-bit Mono/.Net assembly', None, None]]\n"
     ]
    }
   ],
   "source": [
    "import pdfplumber\n",
    "path = r\"D:\\pylib\\pdfplumber_test\\200707-1.pdf\"\n",
    "data=[]\n",
    "data2=[]\n",
    "with pdfplumber.open(path) as pdf:\n",
    "    for i in [1,2]:\n",
    "        apage = pdf.pages[i]\n",
    "        # 读出每个表格\n",
    "        pagetables = apage.extract_tables()\n",
    "\n",
    "        # print(pagetables)\n",
    "        for pagetable in pagetables:\n",
    "            # 读出一个表格\n",
    "            print('\\n')\n",
    "            for tablerow in pagetable:\n",
    "                # 表格中的一行\n",
    "                if(tablerow[0].find('Contents')>0):\n",
    "\n",
    "\n",
    "                    data.append(tablerow)\n",
    "                    print(tablerow)\n",
    "        data2.append(pagetables)\n",
    "\n",
    "print(\"-\"*6,\"data\",\"-\"*6)\n",
    "print(\"data=\\n\",data)\n",
    "\n",
    "# print(\"-\"*6,\"data2\",\"-\"*6)\n",
    "# print(\"data=\\n\",data2)"
   ]
  }
 ],
 "metadata": {
  "kernelspec": {
   "display_name": "Python 3",
   "language": "python",
   "name": "python3"
  },
  "language_info": {
   "codemirror_mode": {
    "name": "ipython",
    "version": 3
   },
   "file_extension": ".py",
   "mimetype": "text/x-python",
   "name": "python",
   "nbconvert_exporter": "python",
   "pygments_lexer": "ipython3",
   "version": "3.11.1"
  },
  "orig_nbformat": 4
 },
 "nbformat": 4,
 "nbformat_minor": 2
}
