{
 "cells": [
  {
   "attachments": {},
   "cell_type": "markdown",
   "metadata": {},
   "source": [
    "- 提取了pdf一些表格，把其中的一些file content信息分离出来"
   ]
  },
  {
   "cell_type": "code",
   "execution_count": 4,
   "metadata": {},
   "outputs": [
    {
     "name": "stdout",
     "output_type": "stream",
     "text": [
      "\n",
      "\n",
      "['File\\nContents:', None, None, 'Filename: AWARENESS NOTICE ON CORONAVIRUS COVID-19 DOCUMENT_pdf.exe\\nMD5: 9498ba71b33e9e9e19c352579e0d1b0a\\nSHA-256: da26ba1e13ce4702bd5154789ce1a699ba206c12021d9823380febd795f5b002\\nFile type: Win32 EXE\\nMagic: PE32 executable for MS Windows (GUI) Intel 80386 32-bit', None, None]\n",
      "\n",
      "\n",
      "['File\\nContents:', None, None, 'Filename: 1Original_document_exe.bin\\nMD5: e7351df51633435293ddc09de7fdc57c\\nSHA-256: 7b98cd3800dede6537cf78e7b61eeeda71d251dc97c70cb7c2135c6aa310ab7f\\nFile type: Win32 EXE\\nMagic: PE32 executable for MS Windows (GUI) Intel 80386 32-bit', None, None]\n",
      "\n",
      "\n",
      "['File\\nContents:', None, None, 'Filename: Γενική ειδοποίηση χρονοδιαγράμματος εργασίας στο COVID-19\\nMD5: 62f9618752fffbd4ff7d52fdc39ec5fb\\nSHA-256: f681c1f8c12956a20c27beb9be1112374fefc7651884d7dd92010b40db1e7bee\\nFile type: Win32 EXE\\nMagic: PE32 executable for MS Windows (GUI) Intel 80386 32-bit', None, None]\n",
      "\n",
      "\n",
      "['File\\nContents:', None, None, 'Filename: Persons_status_details_list.xlsx\\nMD5: 61d50cbcdc5c52588bd79736ac7dd5e0\\nSHA-256: d56bb81d0f8e4de24dc12a7d963ed95eec36291c71a29d6b434e72f098cc1131\\nFile type: Office Open XML Spreadsheet\\nMagic: Zip archive data', None, None]\n",
      "\n",
      "\n",
      "['File\\nContents:', None, None, 'Filenames: COVID-19 WHO RECOMENDED V.exe / YkZeIEiv.exe\\nMD5: 1179a7989031fc4b6331505b388dcb12\\nSHA-256: d150feb631d6e9050b7fb76db57504e6dcc2715fe03e45db095f50d56a9495a5\\nFile type: Win32 EXE\\nMagic: PE32 executable for MS Windows (GUI) Intel 80386 32-bit Mono/.Net assembly', None, None]\n",
      "\n",
      "\n",
      "['File\\nContents:', None, None, 'Filenames: Covid 19 Immunity Tips.exe\\nMD5: 76fffeef410bd6b633c09c0f6529891d\\nSHA-256: e4e5c3a6c15beff4e17117075e2c0bd65f176d81e6885134d2b4d97c20d4773a\\nFile type: Win32 EXE\\nMagic: PE32 executable for MS Windows (GUI) Intel 80386 32-bit Mono/.Net assembly', None, None]\n",
      "\n",
      "\n",
      "------ data ------\n",
      "data=\n",
      " [['File\\nContents:', None, None, 'Filename: AWARENESS NOTICE ON CORONAVIRUS COVID-19 DOCUMENT_pdf.exe\\nMD5: 9498ba71b33e9e9e19c352579e0d1b0a\\nSHA-256: da26ba1e13ce4702bd5154789ce1a699ba206c12021d9823380febd795f5b002\\nFile type: Win32 EXE\\nMagic: PE32 executable for MS Windows (GUI) Intel 80386 32-bit', None, None], ['File\\nContents:', None, None, 'Filename: 1Original_document_exe.bin\\nMD5: e7351df51633435293ddc09de7fdc57c\\nSHA-256: 7b98cd3800dede6537cf78e7b61eeeda71d251dc97c70cb7c2135c6aa310ab7f\\nFile type: Win32 EXE\\nMagic: PE32 executable for MS Windows (GUI) Intel 80386 32-bit', None, None], ['File\\nContents:', None, None, 'Filename: Γενική ειδοποίηση χρονοδιαγράμματος εργασίας στο COVID-19\\nMD5: 62f9618752fffbd4ff7d52fdc39ec5fb\\nSHA-256: f681c1f8c12956a20c27beb9be1112374fefc7651884d7dd92010b40db1e7bee\\nFile type: Win32 EXE\\nMagic: PE32 executable for MS Windows (GUI) Intel 80386 32-bit', None, None], ['File\\nContents:', None, None, 'Filename: Persons_status_details_list.xlsx\\nMD5: 61d50cbcdc5c52588bd79736ac7dd5e0\\nSHA-256: d56bb81d0f8e4de24dc12a7d963ed95eec36291c71a29d6b434e72f098cc1131\\nFile type: Office Open XML Spreadsheet\\nMagic: Zip archive data', None, None], ['File\\nContents:', None, None, 'Filenames: COVID-19 WHO RECOMENDED V.exe / YkZeIEiv.exe\\nMD5: 1179a7989031fc4b6331505b388dcb12\\nSHA-256: d150feb631d6e9050b7fb76db57504e6dcc2715fe03e45db095f50d56a9495a5\\nFile type: Win32 EXE\\nMagic: PE32 executable for MS Windows (GUI) Intel 80386 32-bit Mono/.Net assembly', None, None], ['File\\nContents:', None, None, 'Filenames: Covid 19 Immunity Tips.exe\\nMD5: 76fffeef410bd6b633c09c0f6529891d\\nSHA-256: e4e5c3a6c15beff4e17117075e2c0bd65f176d81e6885134d2b4d97c20d4773a\\nFile type: Win32 EXE\\nMagic: PE32 executable for MS Windows (GUI) Intel 80386 32-bit Mono/.Net assembly', None, None]]\n"
     ]
    }
   ],
   "source": [
    "import pdfplumber\n",
    "path = r\"200707-1.pdf\"\n",
    "data=[]\n",
    "data2=[]\n",
    "with pdfplumber.open(path) as pdf:\n",
    "    for i in [1,2]:\n",
    "        apage = pdf.pages[i]\n",
    "        # 读出每个表格\n",
    "        pagetables = apage.extract_tables()\n",
    "\n",
    "        # print(pagetables)\n",
    "        for pagetable in pagetables:\n",
    "            # 读出一个表格\n",
    "            print('\\n')\n",
    "            for tablerow in pagetable:\n",
    "                # 表格中的一行\n",
    "                if(tablerow[0].find('Contents')>0):\n",
    "\n",
    "\n",
    "                    data.append(tablerow)\n",
    "                    print(tablerow)\n",
    "        data2.append(pagetables)\n",
    "\n",
    "print(\"-\"*6,\"data\",\"-\"*6)\n",
    "print(\"data=\\n\",data)\n",
    "\n",
    "# print(\"-\"*6,\"data2\",\"-\"*6)\n",
    "# print(\"data=\\n\",data2)"
   ]
  },
  {
   "attachments": {},
   "cell_type": "markdown",
   "metadata": {},
   "source": [
    "写入原始数据\n"
   ]
  },
  {
   "cell_type": "code",
   "execution_count": 46,
   "metadata": {},
   "outputs": [
    {
     "name": "stdout",
     "output_type": "stream",
     "text": [
      "[['Filename: AWARENESS NOTICE ON CORONAVIRUS COVID-19 DOCUMENT_pdf.exe', 'MD5: 9498ba71b33e9e9e19c352579e0d1b0a', 'SHA-256: da26ba1e13ce4702bd5154789ce1a699ba206c12021d9823380febd795f5b002', 'File type: Win32 EXE', 'Magic: PE32 executable for MS Windows (GUI) Intel 80386 32-bit'], ['Filename: 1Original_document_exe.bin', 'MD5: e7351df51633435293ddc09de7fdc57c', 'SHA-256: 7b98cd3800dede6537cf78e7b61eeeda71d251dc97c70cb7c2135c6aa310ab7f', 'File type: Win32 EXE', 'Magic: PE32 executable for MS Windows (GUI) Intel 80386 32-bit'], ['Filename: Γενική ειδοποίηση χρονοδιαγράμματος εργασίας στο COVID-19', 'MD5: 62f9618752fffbd4ff7d52fdc39ec5fb', 'SHA-256: f681c1f8c12956a20c27beb9be1112374fefc7651884d7dd92010b40db1e7bee', 'File type: Win32 EXE', 'Magic: PE32 executable for MS Windows (GUI) Intel 80386 32-bit'], ['Filename: Persons_status_details_list.xlsx', 'MD5: 61d50cbcdc5c52588bd79736ac7dd5e0', 'SHA-256: d56bb81d0f8e4de24dc12a7d963ed95eec36291c71a29d6b434e72f098cc1131', 'File type: Office Open XML Spreadsheet', 'Magic: Zip archive data'], ['Filenames: COVID-19 WHO RECOMENDED V.exe / YkZeIEiv.exe', 'MD5: 1179a7989031fc4b6331505b388dcb12', 'SHA-256: d150feb631d6e9050b7fb76db57504e6dcc2715fe03e45db095f50d56a9495a5', 'File type: Win32 EXE', 'Magic: PE32 executable for MS Windows (GUI) Intel 80386 32-bit Mono/.Net assembly'], ['Filenames: Covid 19 Immunity Tips.exe', 'MD5: 76fffeef410bd6b633c09c0f6529891d', 'SHA-256: e4e5c3a6c15beff4e17117075e2c0bd65f176d81e6885134d2b4d97c20d4773a', 'File type: Win32 EXE', 'Magic: PE32 executable for MS Windows (GUI) Intel 80386 32-bit Mono/.Net assembly']]\n"
     ]
    }
   ],
   "source": [
    "from openpyxl import Workbook\n",
    "from openpyxl import load_workbook\n",
    "# from write_row import *\n",
    "# workbook=load_workbook(filename=\"hello_world.xlsx\")\n",
    "workbook=Workbook()\n",
    "sheet= workbook.active\n",
    "# sheet[\"a\"+\"1\"]=\"hello\"\n",
    "# sheet[\"B1\"]=\"world!\"\n",
    "sheet.cell(row=1,column=6)\n",
    "data3=[]\n",
    "for l in data:\n",
    "    # l+=l[3].split('\\n')\n",
    "    data3.append(l[3].split('\\n'))\n",
    "    # sheet.append(l)\n",
    "print(data3)\n",
    "for d in data3:\n",
    "    sheet.append(d)\n",
    "workbook.save(filename=\"hello_world.xlsx\")"
   ]
  },
  {
   "attachments": {},
   "cell_type": "markdown",
   "metadata": {},
   "source": [
    "得到去除前缀的内容\n"
   ]
  },
  {
   "cell_type": "code",
   "execution_count": 48,
   "metadata": {},
   "outputs": [
    {
     "name": "stdout",
     "output_type": "stream",
     "text": [
      "[['AWARENESS NOTICE ON CORONAVIRUS COVID-19 DOCUMENT_pdf.exe', '9498ba71b33e9e9e19c352579e0d1b0a', 'da26ba1e13ce4702bd5154789ce1a699ba206c12021d9823380febd795f5b002', 'Win32 EXE', 'PE32 executable for MS Windows (GUI) Intel 80386 32-bit'], ['1Original_document_exe.bin', 'e7351df51633435293ddc09de7fdc57c', '7b98cd3800dede6537cf78e7b61eeeda71d251dc97c70cb7c2135c6aa310ab7f', 'Win32 EXE', 'PE32 executable for MS Windows (GUI) Intel 80386 32-bit'], ['Γενική ειδοποίηση χρονοδιαγράμματος εργασίας στο COVID-19', '62f9618752fffbd4ff7d52fdc39ec5fb', 'f681c1f8c12956a20c27beb9be1112374fefc7651884d7dd92010b40db1e7bee', 'Win32 EXE', 'PE32 executable for MS Windows (GUI) Intel 80386 32-bit'], ['Persons_status_details_list.xlsx', '61d50cbcdc5c52588bd79736ac7dd5e0', 'd56bb81d0f8e4de24dc12a7d963ed95eec36291c71a29d6b434e72f098cc1131', 'Office Open XML Spreadsheet', 'Zip archive data'], ['s: COVID-19 WHO RECOMENDED V.exe / YkZeIEiv.exe', '1179a7989031fc4b6331505b388dcb12', 'd150feb631d6e9050b7fb76db57504e6dcc2715fe03e45db095f50d56a9495a5', 'Win32 EXE', 'PE32 executable for MS Windows (GUI) Intel 80386 32-bit Mono/.Net assembly'], ['s: Covid 19 Immunity Tips.exe', '76fffeef410bd6b633c09c0f6529891d', 'e4e5c3a6c15beff4e17117075e2c0bd65f176d81e6885134d2b4d97c20d4773a', 'Win32 EXE', 'PE32 executable for MS Windows (GUI) Intel 80386 32-bit Mono/.Net assembly']]\n"
     ]
    }
   ],
   "source": [
    "lis1=[]\n",
    "for row in sheet.iter_rows(min_row=2,max_row=7,min_col=1,max_col=5,values_only=True):\n",
    "    # print(row)\n",
    "    lis1.append([row[0].lstrip('Filename:').strip(),\n",
    "                 row[1].lstrip('MD5:').strip(),\n",
    "                 row[2].lstrip('SHA-256:').strip(),\n",
    "                 row[3].lstrip('File type:').strip(),\n",
    "                 row[4].lstrip('Magic:').strip()\n",
    "                 ])\n",
    "print(lis1)\n"
   ]
  },
  {
   "attachments": {},
   "cell_type": "markdown",
   "metadata": {},
   "source": [
    "写入新表格中"
   ]
  },
  {
   "cell_type": "code",
   "execution_count": 49,
   "metadata": {},
   "outputs": [],
   "source": [
    "from openpyxl import Workbook\n",
    "# from write_row import *\n",
    "workbook=Workbook()\n",
    "# workbook=load_workbook(filename=\"hello_world.xlsx\")\n",
    "# sheet= workbook.active\n",
    "sheet= workbook.active\n",
    "# keyn=['C','D','E']\n",
    "# lis2=[]\n",
    "# lis3=[]\n",
    "# for row in lis1:\n",
    "#     # print(row)\n",
    "#     lis2.append(zip(keyn,row))\n",
    "# for row in lis2:\n",
    "#     # print(dict(row))\n",
    "#     lis3.append(dict(row))\n",
    "# print(lis3)\n",
    "# sheet.cell(row=1,column=1)\n",
    "# for row in lis3:\n",
    "#     sheet.append(row)\n",
    "\n",
    "sheet.append(['Filename','MD5','SHA-256','File type','Magic'])\n",
    "for row in lis1:\n",
    "    sheet.append(row)\n",
    "workbook.save(filename=\"hello_world2.xlsx\")"
   ]
  }
 ],
 "metadata": {
  "kernelspec": {
   "display_name": "Python 3",
   "language": "python",
   "name": "python3"
  },
  "language_info": {
   "codemirror_mode": {
    "name": "ipython",
    "version": 3
   },
   "file_extension": ".py",
   "mimetype": "text/x-python",
   "name": "python",
   "nbconvert_exporter": "python",
   "pygments_lexer": "ipython3",
   "version": "3.11.1"
  },
  "orig_nbformat": 4
 },
 "nbformat": 4,
 "nbformat_minor": 2
}
