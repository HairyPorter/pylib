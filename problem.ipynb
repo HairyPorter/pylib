{
 "cells": [
  {
   "attachments": {},
   "cell_type": "markdown",
   "metadata": {},
   "source": [
    "# 遇到的一些问题"
   ]
  },
  {
   "attachments": {},
   "cell_type": "markdown",
   "metadata": {},
   "source": [
    "- 连接xshell、xftp前置条件openssh-server"
   ]
  },
  {
   "attachments": {},
   "cell_type": "markdown",
   "metadata": {},
   "source": [
    "sudo apt-get install openssh-server"
   ]
  },
  {
   "attachments": {},
   "cell_type": "markdown",
   "metadata": {},
   "source": [
    "\n",
    "- git 的ssh出现\n",
    " WARNING: REMOTE HOST IDENTIFICATION HAS CHANGED!\n",
    " Host key for github.com has changed and you have requested strict checking.\n",
    " Could not read from remote repository.\n",
    " 等问题\n",
    " - 解决方法\n",
    "  git bash 中输入\n",
    "  ssh-keygen -R github.com，来自https://github.blog/2023-03-23-we-updated-our-rsa-ssh-host-key/\n",
    "\n"
   ]
  },
  {
   "attachments": {},
   "cell_type": "markdown",
   "metadata": {},
   "source": [
    "ssh-keygen -R github.com"
   ]
  },
  {
   "attachments": {},
   "cell_type": "markdown",
   "metadata": {},
   "source": [
    "- 无法打开控制台：去/etc/default，将en_US 改为en_US.UTF-8"
   ]
  }
 ],
 "metadata": {
  "language_info": {
   "name": "python"
  },
  "orig_nbformat": 4
 },
 "nbformat": 4,
 "nbformat_minor": 2
}
