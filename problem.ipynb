{
 "cells": [
  {
   "attachments": {},
   "cell_type": "markdown",
   "metadata": {},
   "source": [
    "# 遇到的一些问题\n",
    "- git 的ssh出现\n",
    " WARNING: REMOTE HOST IDENTIFICATION HAS CHANGED!\n",
    " Host key for github.com has changed and you have requested strict checking.\n",
    " Could not read from remote repository.\n",
    " 等问题\n",
    " - 解决方法\n",
    "  git bash 中输入\n",
    "  ssh-keygen -R github.com，来自https://github.blog/2023-03-23-we-updated-our-rsa-ssh-host-key/\n",
    "\n"
   ]
  }
 ],
 "metadata": {
  "language_info": {
   "name": "python"
  },
  "orig_nbformat": 4
 },
 "nbformat": 4,
 "nbformat_minor": 2
}
