{
 "cells": [
  {
   "attachments": {},
   "cell_type": "markdown",
   "metadata": {},
   "source": [
    "- 登录一下"
   ]
  },
  {
   "cell_type": "code",
   "execution_count": 1,
   "metadata": {},
   "outputs": [],
   "source": [
    "# import py2neo as p2n\n",
    "from py2neo import Graph,Node,Relationship\n",
    "\n",
    "g = Graph('http://192.168.100.42:7474', auth=('neo4j','neo4j'), name='neo4j')\n",
    "\n",
    "\n",
    "\n"
   ]
  },
  {
   "attachments": {},
   "cell_type": "markdown",
   "metadata": {},
   "source": [
    "- 创建两个节点"
   ]
  },
  {
   "cell_type": "code",
   "execution_count": 19,
   "metadata": {},
   "outputs": [],
   "source": [
    "tn1=Node(\"Person\",name=\"test_node_1\")\n",
    "tn2=Node(\"Person\",name=\"test_node_2\")"
   ]
  },
  {
   "attachments": {},
   "cell_type": "markdown",
   "metadata": {},
   "source": [
    "- 创建两个关系，并带有属性"
   ]
  },
  {
   "cell_type": "code",
   "execution_count": 20,
   "metadata": {},
   "outputs": [],
   "source": [
    "\n",
    "# g.create(tn1)\n",
    "# g.create(tn2)\n",
    "node_1_call_node_2 = Relationship(tn1,'CALL',tn2)\n",
    "node_1_call_node_2['count'] = 1 \n",
    "node_2_call_node_1 = Relationship(tn2,'CALL',tn1)\n",
    "node_2_call_node_1['count'] = 2\n"
   ]
  },
  {
   "cell_type": "markdown",
   "metadata": {},
   "source": [
    "- 把关系加载到图上（本地）"
   ]
  },
  {
   "cell_type": "code",
   "execution_count": 21,
   "metadata": {},
   "outputs": [],
   "source": [
    "g.create(node_1_call_node_2)\n",
    "g.create(node_2_call_node_1)"
   ]
  },
  {
   "attachments": {},
   "cell_type": "markdown",
   "metadata": {},
   "source": [
    "- 修改关系属性并更新到远程库"
   ]
  },
  {
   "cell_type": "code",
   "execution_count": 22,
   "metadata": {},
   "outputs": [],
   "source": [
    "node_1_call_node_2['count']+=5\n",
    "g.push(node_1_call_node_2)"
   ]
  },
  {
   "attachments": {},
   "cell_type": "markdown",
   "metadata": {},
   "source": [
    "- 看看关系属性、删除"
   ]
  },
  {
   "cell_type": "code",
   "execution_count": 26,
   "metadata": {},
   "outputs": [
    {
     "name": "stdout",
     "output_type": "stream",
     "text": [
      "{'name': 'test_node_1'}\n",
      "{}\n"
     ]
    }
   ],
   "source": [
    "print(dict(tn1))\n",
    "tn1.clear()\n",
    "print(dict(tn1))"
   ]
  },
  {
   "cell_type": "code",
   "execution_count": 33,
   "metadata": {},
   "outputs": [
    {
     "name": "stdout",
     "output_type": "stream",
     "text": [
      "6\n",
      "(Node('Person'), Node('Person', name='test_node_2'))\n",
      "{'count': 6}\n"
     ]
    }
   ],
   "source": [
    "print(node_1_call_node_2['count'])\n",
    "print(node_1_call_node_2.nodes)\n",
    "print(dict(node_1_call_node_2))"
   ]
  },
  {
   "cell_type": "code",
   "execution_count": 40,
   "metadata": {},
   "outputs": [
    {
     "name": "stdout",
     "output_type": "stream",
     "text": [
      "[Node('Person', name='John'), Node('Person', name='John'), Node('Person', name='John')]\n"
     ]
    }
   ],
   "source": [
    "from py2neo.matching import *\n",
    "nodes = NodeMatcher(g)\n",
    "alice = nodes.match(\"Person\",name = \"John\").all()\n",
    "\n",
    "print(alice)"
   ]
  },
  {
   "attachments": {},
   "cell_type": "markdown",
   "metadata": {},
   "source": [
    "- 删除全部"
   ]
  },
  {
   "cell_type": "code",
   "execution_count": 2,
   "metadata": {},
   "outputs": [],
   "source": [
    "import py2neo\n",
    "g.delete_all()\n"
   ]
  }
 ],
 "metadata": {
  "kernelspec": {
   "display_name": "Python 3",
   "language": "python",
   "name": "python3"
  },
  "language_info": {
   "codemirror_mode": {
    "name": "ipython",
    "version": 3
   },
   "file_extension": ".py",
   "mimetype": "text/x-python",
   "name": "python",
   "nbconvert_exporter": "python",
   "pygments_lexer": "ipython3",
   "version": "3.11.1"
  },
  "orig_nbformat": 4
 },
 "nbformat": 4,
 "nbformat_minor": 2
}
